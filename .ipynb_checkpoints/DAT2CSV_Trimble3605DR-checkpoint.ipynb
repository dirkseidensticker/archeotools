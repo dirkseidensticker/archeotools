{
 "cells": [
  {
   "cell_type": "markdown",
   "metadata": {},
   "source": [
    "# Trimble 3605 DR\n",
    "---\n",
    "## Konvertierung der .DAT-Dateien in eine ins GIS einlesbar .CSV-Tabelle"
   ]
  },
  {
   "cell_type": "code",
   "execution_count": 14,
   "metadata": {
    "collapsed": true
   },
   "outputs": [],
   "source": [
    "%matplotlib inline\n",
    "from IPython.display import display\n",
    "import pandas as pd"
   ]
  },
  {
   "cell_type": "markdown",
   "metadata": {},
   "source": [
    "Eingabe des Dateipfades zur .DAT-Datei. Die Ausgabedatei wird unter gleichem Namen in das gleiche Verzeichnis geschrieben."
   ]
  },
  {
   "cell_type": "code",
   "execution_count": 15,
   "metadata": {
    "collapsed": false
   },
   "outputs": [
    {
     "name": "stdout",
     "output_type": "stream",
     "text": [
      "where is the input-File (.DAT):data/JE150121\n"
     ]
    }
   ],
   "source": [
    "file = input('where is the input-File (.DAT):')"
   ]
  },
  {
   "cell_type": "code",
   "execution_count": 16,
   "metadata": {
    "collapsed": false
   },
   "outputs": [
    {
     "data": {
      "text/html": [
       "<div>\n",
       "<table border=\"1\" class=\"dataframe\">\n",
       "  <thead>\n",
       "    <tr style=\"text-align: right;\">\n",
       "      <th></th>\n",
       "      <th>0</th>\n",
       "    </tr>\n",
       "  </thead>\n",
       "  <tbody>\n",
       "    <tr>\n",
       "      <th>0</th>\n",
       "      <td>For M5|Adr     1|TG  EINGABEWERTE             ...</td>\n",
       "    </tr>\n",
       "    <tr>\n",
       "      <th>1</th>\n",
       "      <td>For M5|Adr     2|TG  EINGABEWERTE             ...</td>\n",
       "    </tr>\n",
       "    <tr>\n",
       "      <th>2</th>\n",
       "      <td>For M5|Adr     3|TI  REFLEX FOLIE             ...</td>\n",
       "    </tr>\n",
       "    <tr>\n",
       "      <th>3</th>\n",
       "      <td>For M5|Adr     4|TG  EINGABEWERTE             ...</td>\n",
       "    </tr>\n",
       "    <tr>\n",
       "      <th>4</th>\n",
       "      <td>For M5|Adr     5|TG  EINGABEWERTE             ...</td>\n",
       "    </tr>\n",
       "  </tbody>\n",
       "</table>\n",
       "</div>"
      ],
      "text/plain": [
       "                                                   0\n",
       "0  For M5|Adr     1|TG  EINGABEWERTE             ...\n",
       "1  For M5|Adr     2|TG  EINGABEWERTE             ...\n",
       "2  For M5|Adr     3|TI  REFLEX FOLIE             ...\n",
       "3  For M5|Adr     4|TG  EINGABEWERTE             ...\n",
       "4  For M5|Adr     5|TG  EINGABEWERTE             ..."
      ]
     },
     "metadata": {},
     "output_type": "display_data"
    },
    {
     "data": {
      "text/plain": [
       "0    174\n",
       "dtype: int64"
      ]
     },
     "execution_count": 16,
     "metadata": {},
     "output_type": "execute_result"
    }
   ],
   "source": [
    "df = pd.read_table(into+'.dat', header=-1)\n",
    "display(df.head())\n",
    "df.count()"
   ]
  },
  {
   "cell_type": "markdown",
   "metadata": {},
   "source": [
    "Die .DAT-Datei enthält auch Zeilen mit den Eingabe- und Rechenwerten sowie Programmaufrufe. Im Folgenden **nur Zeilen mit Messwerten** herausfiltern.\n",
    "\n",
    "Die Zeilen mit den Messwerten sind:\n",
    "* Eingabewerten aus Absteckungen und Messungen mit dem Programm 'Aufnahme' (nach Stationierung) enthalten ein **großes Y**\n",
    "* Messungen mit Abstand-Punkt-Gerade enthalten ein **kleines y**"
   ]
  },
  {
   "cell_type": "code",
   "execution_count": 17,
   "metadata": {
    "collapsed": false
   },
   "outputs": [
    {
     "data": {
      "text/plain": [
       "0    31\n",
       "dtype: int64"
      ]
     },
     "execution_count": 17,
     "metadata": {},
     "output_type": "execute_result"
    }
   ],
   "source": [
    "df_1a = df[df[0].str.contains(\"Y \")]\n",
    "df_1b = df[df[0].str.contains(\"y \")]\n",
    "df_1 = pd.concat([df_1a, df_1b])\n",
    "df_1.count()"
   ]
  },
  {
   "cell_type": "markdown",
   "metadata": {},
   "source": [
    "Die einzelnen Felder sind mit dem Trennerzeichen ' | '  versehen und können an diesem in Spalten zerlegt werden (siehe [pandas split string into columns](http://stackoverflow.com/questions/29370211/pandas-split-string-into-columns))"
   ]
  },
  {
   "cell_type": "code",
   "execution_count": 18,
   "metadata": {
    "collapsed": false
   },
   "outputs": [
    {
     "data": {
      "text/html": [
       "<div>\n",
       "<table border=\"1\" class=\"dataframe\">\n",
       "  <thead>\n",
       "    <tr style=\"text-align: right;\">\n",
       "      <th></th>\n",
       "      <th>0</th>\n",
       "      <th>ADR</th>\n",
       "      <th>NAME</th>\n",
       "      <th>Y</th>\n",
       "      <th>X</th>\n",
       "      <th>Z</th>\n",
       "      <th>6</th>\n",
       "    </tr>\n",
       "  </thead>\n",
       "  <tbody>\n",
       "    <tr>\n",
       "      <th>82</th>\n",
       "      <td>or M5</td>\n",
       "      <td>Adr    83</td>\n",
       "      <td>PI1 00001 Fix1</td>\n",
       "      <td>Y          0.0000 m</td>\n",
       "      <td>X          0.0000 m</td>\n",
       "      <td>Z          0.0000 m</td>\n",
       "      <td></td>\n",
       "    </tr>\n",
       "    <tr>\n",
       "      <th>83</th>\n",
       "      <td>or M5</td>\n",
       "      <td>Adr    84</td>\n",
       "      <td>PI1 00002 Fix2</td>\n",
       "      <td>Y          0.0000 m</td>\n",
       "      <td>X         23.0000 m</td>\n",
       "      <td>Z         -0.1500 m</td>\n",
       "      <td></td>\n",
       "    </tr>\n",
       "    <tr>\n",
       "      <th>84</th>\n",
       "      <td>or M5</td>\n",
       "      <td>Adr    85</td>\n",
       "      <td>PI1 00003 Fix3</td>\n",
       "      <td>Y         13.8910 m</td>\n",
       "      <td>X         14.4950 m</td>\n",
       "      <td>Z         -0.0120 m</td>\n",
       "      <td></td>\n",
       "    </tr>\n",
       "    <tr>\n",
       "      <th>112</th>\n",
       "      <td>or M5</td>\n",
       "      <td>Adr   113</td>\n",
       "      <td>PI1</td>\n",
       "      <td>Y          8.3942 m</td>\n",
       "      <td>X         19.9485 m</td>\n",
       "      <td>Z         -0.3683 m</td>\n",
       "      <td></td>\n",
       "    </tr>\n",
       "    <tr>\n",
       "      <th>132</th>\n",
       "      <td>or M5</td>\n",
       "      <td>Adr   133</td>\n",
       "      <td>PI1                       ZwErg</td>\n",
       "      <td>Y          8.3885 m</td>\n",
       "      <td>X         19.9465 m</td>\n",
       "      <td></td>\n",
       "      <td></td>\n",
       "    </tr>\n",
       "  </tbody>\n",
       "</table>\n",
       "</div>"
      ],
      "text/plain": [
       "         0        ADR                             NAME  \\\n",
       "82   or M5  Adr    83  PI1 00001 Fix1                    \n",
       "83   or M5  Adr    84  PI1 00002 Fix2                    \n",
       "84   or M5  Adr    85  PI1 00003 Fix3                    \n",
       "112  or M5  Adr   113  PI1                               \n",
       "132  or M5  Adr   133  PI1                       ZwErg   \n",
       "\n",
       "                          Y                       X                       Z 6  \n",
       "82   Y          0.0000 m     X          0.0000 m     Z          0.0000 m       \n",
       "83   Y          0.0000 m     X         23.0000 m     Z         -0.1500 m       \n",
       "84   Y         13.8910 m     X         14.4950 m     Z         -0.0120 m       \n",
       "112  Y          8.3942 m     X         19.9485 m     Z         -0.3683 m       \n",
       "132  Y          8.3885 m     X         19.9465 m                               "
      ]
     },
     "metadata": {},
     "output_type": "display_data"
    }
   ],
   "source": [
    "df_2 = df_1[0].str[1:-1].str.split('|', expand = True).astype(str)\n",
    "df_2.rename(columns={1: 'ADR', 2: 'NAME', 3: 'Y', 4: 'X', 5: 'Z'}, inplace=True)\n",
    "display(df_2.head())"
   ]
  },
  {
   "cell_type": "markdown",
   "metadata": {},
   "source": [
    "mit str.replace() alles etfernen, was raus soll"
   ]
  },
  {
   "cell_type": "code",
   "execution_count": 19,
   "metadata": {
    "collapsed": false
   },
   "outputs": [],
   "source": [
    "df_2['ADR'] = df_2['ADR'].str.replace('Adr ', '')\n",
    "\n",
    "df_2['NAME'] = df_2['NAME'].str.replace('PI1 ', '')\n",
    "\n",
    "df_2['Y'] = df_2['Y'].str.replace('Y ', '')\n",
    "df_2['Y'] = df_2['Y'].str.replace('y ', '')\n",
    "df_2['Y'] = df_2['Y'].str.replace(' m', '')\n",
    "\n",
    "df_2['X'] = df_2['X'].str.replace('X ', '')\n",
    "df_2['X'] = df_2['X'].str.replace('x ', '')\n",
    "df_2['X'] = df_2['X'].str.replace(' m', '')\n",
    "\n",
    "df_2['Z'] = df_2['Z'].str.replace('Z ', '')\n",
    "df_2['Z'] = df_2['Z'].str.replace('z ', '')\n",
    "df_2['Z'] = df_2['Z'].str.replace(' m', '')"
   ]
  },
  {
   "cell_type": "markdown",
   "metadata": {},
   "source": [
    "Die Datei enthält stellenweise noch unerwünschte Zeilen die beim Stationieren entstehen. Diese enthalten ein 's' oder ein 'h' in der Y-Spalte"
   ]
  },
  {
   "cell_type": "code",
   "execution_count": 20,
   "metadata": {
    "collapsed": false
   },
   "outputs": [],
   "source": [
    "df_2 = df_2[~(df_2['Y'].str.contains(\"s\")) & ~(df_2['Z'].str.contains(\"h\"))]"
   ]
  },
  {
   "cell_type": "code",
   "execution_count": 21,
   "metadata": {
    "collapsed": false
   },
   "outputs": [
    {
     "data": {
      "text/html": [
       "<div>\n",
       "<table border=\"1\" class=\"dataframe\">\n",
       "  <thead>\n",
       "    <tr style=\"text-align: right;\">\n",
       "      <th></th>\n",
       "      <th>0</th>\n",
       "      <th>ADR</th>\n",
       "      <th>NAME</th>\n",
       "      <th>Y</th>\n",
       "      <th>X</th>\n",
       "      <th>Z</th>\n",
       "      <th>6</th>\n",
       "    </tr>\n",
       "  </thead>\n",
       "  <tbody>\n",
       "    <tr>\n",
       "      <th>82</th>\n",
       "      <td>or M5</td>\n",
       "      <td>83</td>\n",
       "      <td>00001 Fix1</td>\n",
       "      <td>0.0000</td>\n",
       "      <td>0.0000</td>\n",
       "      <td>0.0000</td>\n",
       "      <td></td>\n",
       "    </tr>\n",
       "    <tr>\n",
       "      <th>83</th>\n",
       "      <td>or M5</td>\n",
       "      <td>84</td>\n",
       "      <td>00002 Fix2</td>\n",
       "      <td>0.0000</td>\n",
       "      <td>23.0000</td>\n",
       "      <td>-0.1500</td>\n",
       "      <td></td>\n",
       "    </tr>\n",
       "    <tr>\n",
       "      <th>84</th>\n",
       "      <td>or M5</td>\n",
       "      <td>85</td>\n",
       "      <td>00003 Fix3</td>\n",
       "      <td>13.8910</td>\n",
       "      <td>14.4950</td>\n",
       "      <td>-0.0120</td>\n",
       "      <td></td>\n",
       "    </tr>\n",
       "    <tr>\n",
       "      <th>112</th>\n",
       "      <td>or M5</td>\n",
       "      <td>113</td>\n",
       "      <td></td>\n",
       "      <td>8.3942</td>\n",
       "      <td>19.9485</td>\n",
       "      <td>-0.3683</td>\n",
       "      <td></td>\n",
       "    </tr>\n",
       "    <tr>\n",
       "      <th>132</th>\n",
       "      <td>or M5</td>\n",
       "      <td>133</td>\n",
       "      <td>ZwErg</td>\n",
       "      <td>8.3885</td>\n",
       "      <td>19.9465</td>\n",
       "      <td></td>\n",
       "      <td></td>\n",
       "    </tr>\n",
       "  </tbody>\n",
       "</table>\n",
       "</div>"
      ],
      "text/plain": [
       "         0    ADR                         NAME                   Y  \\\n",
       "82   or M5     83  00001 Fix1                            0.0000      \n",
       "83   or M5     84  00002 Fix2                            0.0000      \n",
       "84   or M5     85  00003 Fix3                           13.8910      \n",
       "112  or M5    113                                        8.3942      \n",
       "132  or M5    133                        ZwErg           8.3885      \n",
       "\n",
       "                      X                       Z 6  \n",
       "82            0.0000                  0.0000       \n",
       "83           23.0000                 -0.1500       \n",
       "84           14.4950                 -0.0120       \n",
       "112          19.9485                 -0.3683       \n",
       "132          19.9465                               "
      ]
     },
     "metadata": {},
     "output_type": "display_data"
    }
   ],
   "source": [
    "display(df_2.head())"
   ]
  },
  {
   "cell_type": "markdown",
   "metadata": {},
   "source": [
    "Das Ganze als .CSV speichern:"
   ]
  },
  {
   "cell_type": "code",
   "execution_count": 23,
   "metadata": {
    "collapsed": false
   },
   "outputs": [],
   "source": [
    "df_2.to_csv(file+'.csv')"
   ]
  },
  {
   "cell_type": "markdown",
   "metadata": {},
   "source": [
    "> in QGIS beim Import der CSV-Datei auf alle Fälle <code>[x] Felder abschneiden</code> aktivieren, da -- warum eigentlich? -- Leereichen in die CSV-Datei geschrieben werden"
   ]
  },
  {
   "cell_type": "code",
   "execution_count": null,
   "metadata": {
    "collapsed": true
   },
   "outputs": [],
   "source": []
  }
 ],
 "metadata": {
  "kernelspec": {
   "display_name": "Python 3",
   "language": "python",
   "name": "python3"
  },
  "language_info": {
   "codemirror_mode": {
    "name": "ipython",
    "version": 3
   },
   "file_extension": ".py",
   "mimetype": "text/x-python",
   "name": "python",
   "nbconvert_exporter": "python",
   "pygments_lexer": "ipython3",
   "version": "3.4.3"
  }
 },
 "nbformat": 4,
 "nbformat_minor": 0
}
